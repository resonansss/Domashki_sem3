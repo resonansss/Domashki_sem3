{
 "cells": [
  {
   "cell_type": "markdown",
   "metadata": {},
   "source": [
    "У меня было сделано 2/5 задач, вот они \\/"
   ]
  },
  {
   "cell_type": "markdown",
   "metadata": {},
   "source": [
    "#### Задача 1. \n",
    "\n",
    "Напишем класс - имитацию класса Token в spacy: у класса должен быть определенный набор атрибутов, создавать новые нельзя. По умолчанию все атрибуты, кроме text, устанавливаются в None, у класса есть методы для установления этих атрибутов (обычные методы экземпляра). "
   ]
  },
  {
   "cell_type": "code",
   "execution_count": 1,
   "metadata": {},
   "outputs": [],
   "source": [
    "class Token:\n",
    "    def __init__(self, text):\n",
    "        self.text = text\n",
    "        self.__category = None \n",
    "\n",
    "    def getcategory(self):\n",
    "        print('Get category')\n",
    "        return self.__category\n",
    "    \n",
    "    def setcategory(self, category):\n",
    "        if category in {'Cyr', \"Lat\", 'Punct', 'Other'}:\n",
    "            self.__category = category\n",
    "        else:\n",
    "            raise ValueError\n",
    "        \n",
    "    category = property(getcategory, setcategory)"
   ]
  },
  {
   "cell_type": "code",
   "execution_count": 2,
   "metadata": {},
   "outputs": [
    {
     "data": {
      "text/plain": [
       "'привеееееееет'"
      ]
     },
     "execution_count": 2,
     "metadata": {},
     "output_type": "execute_result"
    }
   ],
   "source": [
    "token = Token(\"привеееееееет\")\n",
    "token.text"
   ]
  },
  {
   "cell_type": "code",
   "execution_count": 3,
   "metadata": {},
   "outputs": [
    {
     "name": "stdout",
     "output_type": "stream",
     "text": [
      "Get category\n"
     ]
    },
    {
     "data": {
      "text/plain": [
       "'Cyr'"
      ]
     },
     "execution_count": 3,
     "metadata": {},
     "output_type": "execute_result"
    }
   ],
   "source": [
    "token.category = 'Cyr'\n",
    "token.category"
   ]
  },
  {
   "cell_type": "code",
   "execution_count": 4,
   "metadata": {},
   "outputs": [
    {
     "ename": "ValueError",
     "evalue": "",
     "output_type": "error",
     "traceback": [
      "\u001b[1;31m---------------------------------------------------------------------------\u001b[0m",
      "\u001b[1;31mValueError\u001b[0m                                Traceback (most recent call last)",
      "\u001b[1;32mc:\\Users\\mkuzo\\Desktop\\Программирование_3 сем\\Domashki_sem3\\sem4hw4.ipynb Ячейка 6\u001b[0m line \u001b[0;36m1\n\u001b[1;32m----> <a href='vscode-notebook-cell:/c%3A/Users/mkuzo/Desktop/%D0%9F%D1%80%D0%BE%D0%B3%D1%80%D0%B0%D0%BC%D0%BC%D0%B8%D1%80%D0%BE%D0%B2%D0%B0%D0%BD%D0%B8%D0%B5_3%20%D1%81%D0%B5%D0%BC/Domashki_sem3/sem4hw4.ipynb#X11sZmlsZQ%3D%3D?line=0'>1</a>\u001b[0m token\u001b[39m.\u001b[39;49mcategory \u001b[39m=\u001b[39m \u001b[39m'\u001b[39m\u001b[39mpsop\u001b[39m\u001b[39m'\u001b[39m\n",
      "\u001b[1;32mc:\\Users\\mkuzo\\Desktop\\Программирование_3 сем\\Domashki_sem3\\sem4hw4.ipynb Ячейка 6\u001b[0m line \u001b[0;36m1\n\u001b[0;32m     <a href='vscode-notebook-cell:/c%3A/Users/mkuzo/Desktop/%D0%9F%D1%80%D0%BE%D0%B3%D1%80%D0%B0%D0%BC%D0%BC%D0%B8%D1%80%D0%BE%D0%B2%D0%B0%D0%BD%D0%B8%D0%B5_3%20%D1%81%D0%B5%D0%BC/Domashki_sem3/sem4hw4.ipynb#X11sZmlsZQ%3D%3D?line=11'>12</a>\u001b[0m     \u001b[39mself\u001b[39m\u001b[39m.\u001b[39m__category \u001b[39m=\u001b[39m category\n\u001b[0;32m     <a href='vscode-notebook-cell:/c%3A/Users/mkuzo/Desktop/%D0%9F%D1%80%D0%BE%D0%B3%D1%80%D0%B0%D0%BC%D0%BC%D0%B8%D1%80%D0%BE%D0%B2%D0%B0%D0%BD%D0%B8%D0%B5_3%20%D1%81%D0%B5%D0%BC/Domashki_sem3/sem4hw4.ipynb#X11sZmlsZQ%3D%3D?line=12'>13</a>\u001b[0m \u001b[39melse\u001b[39;00m:\n\u001b[1;32m---> <a href='vscode-notebook-cell:/c%3A/Users/mkuzo/Desktop/%D0%9F%D1%80%D0%BE%D0%B3%D1%80%D0%B0%D0%BC%D0%BC%D0%B8%D1%80%D0%BE%D0%B2%D0%B0%D0%BD%D0%B8%D0%B5_3%20%D1%81%D0%B5%D0%BC/Domashki_sem3/sem4hw4.ipynb#X11sZmlsZQ%3D%3D?line=13'>14</a>\u001b[0m     \u001b[39mraise\u001b[39;00m \u001b[39mValueError\u001b[39;00m\n",
      "\u001b[1;31mValueError\u001b[0m: "
     ]
    }
   ],
   "source": [
    "token.category = 'psop'"
   ]
  },
  {
   "cell_type": "markdown",
   "metadata": {},
   "source": [
    "#### Задача 2. \n",
    "\n",
    "Напишем класс-лемматизатор. Класс Token должен иметь атрибут lemma и свойство этого атрибута; метод setname должен принимать объект морфопарсера (можно взять рнн или пайморфи) и использовать его внутри себя, чтобы морфопарсер вернул лемму; getname либо возвращает лемму, либо пишет, что разбор отсутствует. "
   ]
  },
  {
   "cell_type": "code",
   "execution_count": 5,
   "metadata": {},
   "outputs": [],
   "source": [
    "import pymorphy2\n",
    "\n",
    "class Token:\n",
    "    def __init__(self, word):\n",
    "        self.word = word\n",
    "        self.__lemma = None\n",
    "        self.__category = None\n",
    "\n",
    "    def getcategory(self):\n",
    "        print('Get category')\n",
    "        return self.__category\n",
    "    \n",
    "    def setcategory(self, category):\n",
    "        if category in {'Cyr', \"Lat\", 'Punct', 'Other'}:\n",
    "            self.__category = category\n",
    "        else:\n",
    "            raise ValueError\n",
    "        \n",
    "    category = property(getcategory, setcategory)\n",
    "\n",
    "    def setname(self, morph_parser):\n",
    "        self.__lemma = morph_parser.parse(self.word)[0].normal_form\n",
    "\n",
    "    def getname(self):\n",
    "        if self.__lemma is not None:\n",
    "            if self.__category == 'Cyr':\n",
    "                return self.__lemma\n",
    "            else:\n",
    "                raise ValueError\n",
    "        else:\n",
    "            raise ValueError\n",
    "        \n",
    "    lemma = property(getname, setname)"
   ]
  },
  {
   "cell_type": "code",
   "execution_count": 6,
   "metadata": {},
   "outputs": [
    {
     "name": "stdout",
     "output_type": "stream",
     "text": [
      "столик\n",
      "столище\n",
      "стол\n"
     ]
    },
    {
     "ename": "ValueError",
     "evalue": "",
     "output_type": "error",
     "traceback": [
      "\u001b[1;31m---------------------------------------------------------------------------\u001b[0m",
      "\u001b[1;31mValueError\u001b[0m                                Traceback (most recent call last)",
      "\u001b[1;32mc:\\Users\\mkuzo\\Desktop\\Программирование_3 сем\\Domashki_sem3\\sem4hw4.ipynb Ячейка 9\u001b[0m line \u001b[0;36m2\n\u001b[0;32m     <a href='vscode-notebook-cell:/c%3A/Users/mkuzo/Desktop/%D0%9F%D1%80%D0%BE%D0%B3%D1%80%D0%B0%D0%BC%D0%BC%D0%B8%D1%80%D0%BE%D0%B2%D0%B0%D0%BD%D0%B8%D0%B5_3%20%D1%81%D0%B5%D0%BC/Domashki_sem3/sem4hw4.ipynb#X15sZmlsZQ%3D%3D?line=19'>20</a>\u001b[0m token4\u001b[39m.\u001b[39mcategory \u001b[39m=\u001b[39m \u001b[39m'\u001b[39m\u001b[39mLat\u001b[39m\u001b[39m'\u001b[39m\n\u001b[0;32m     <a href='vscode-notebook-cell:/c%3A/Users/mkuzo/Desktop/%D0%9F%D1%80%D0%BE%D0%B3%D1%80%D0%B0%D0%BC%D0%BC%D0%B8%D1%80%D0%BE%D0%B2%D0%B0%D0%BD%D0%B8%D0%B5_3%20%D1%81%D0%B5%D0%BC/Domashki_sem3/sem4hw4.ipynb#X15sZmlsZQ%3D%3D?line=20'>21</a>\u001b[0m token4\u001b[39m.\u001b[39mlemma \u001b[39m=\u001b[39m morph\n\u001b[1;32m---> <a href='vscode-notebook-cell:/c%3A/Users/mkuzo/Desktop/%D0%9F%D1%80%D0%BE%D0%B3%D1%80%D0%B0%D0%BC%D0%BC%D0%B8%D1%80%D0%BE%D0%B2%D0%B0%D0%BD%D0%B8%D0%B5_3%20%D1%81%D0%B5%D0%BC/Domashki_sem3/sem4hw4.ipynb#X15sZmlsZQ%3D%3D?line=21'>22</a>\u001b[0m \u001b[39mprint\u001b[39m(token4\u001b[39m.\u001b[39;49mlemma)\n",
      "\u001b[1;32mc:\\Users\\mkuzo\\Desktop\\Программирование_3 сем\\Domashki_sem3\\sem4hw4.ipynb Ячейка 9\u001b[0m line \u001b[0;36m2\n\u001b[0;32m     <a href='vscode-notebook-cell:/c%3A/Users/mkuzo/Desktop/%D0%9F%D1%80%D0%BE%D0%B3%D1%80%D0%B0%D0%BC%D0%BC%D0%B8%D1%80%D0%BE%D0%B2%D0%B0%D0%BD%D0%B8%D0%B5_3%20%D1%81%D0%B5%D0%BC/Domashki_sem3/sem4hw4.ipynb#X15sZmlsZQ%3D%3D?line=26'>27</a>\u001b[0m         \u001b[39mreturn\u001b[39;00m \u001b[39mself\u001b[39m\u001b[39m.\u001b[39m__lemma\n\u001b[0;32m     <a href='vscode-notebook-cell:/c%3A/Users/mkuzo/Desktop/%D0%9F%D1%80%D0%BE%D0%B3%D1%80%D0%B0%D0%BC%D0%BC%D0%B8%D1%80%D0%BE%D0%B2%D0%B0%D0%BD%D0%B8%D0%B5_3%20%D1%81%D0%B5%D0%BC/Domashki_sem3/sem4hw4.ipynb#X15sZmlsZQ%3D%3D?line=27'>28</a>\u001b[0m     \u001b[39melse\u001b[39;00m:\n\u001b[1;32m---> <a href='vscode-notebook-cell:/c%3A/Users/mkuzo/Desktop/%D0%9F%D1%80%D0%BE%D0%B3%D1%80%D0%B0%D0%BC%D0%BC%D0%B8%D1%80%D0%BE%D0%B2%D0%B0%D0%BD%D0%B8%D0%B5_3%20%D1%81%D0%B5%D0%BC/Domashki_sem3/sem4hw4.ipynb#X15sZmlsZQ%3D%3D?line=28'>29</a>\u001b[0m         \u001b[39mraise\u001b[39;00m \u001b[39mValueError\u001b[39;00m\n\u001b[0;32m     <a href='vscode-notebook-cell:/c%3A/Users/mkuzo/Desktop/%D0%9F%D1%80%D0%BE%D0%B3%D1%80%D0%B0%D0%BC%D0%BC%D0%B8%D1%80%D0%BE%D0%B2%D0%B0%D0%BD%D0%B8%D0%B5_3%20%D1%81%D0%B5%D0%BC/Domashki_sem3/sem4hw4.ipynb#X15sZmlsZQ%3D%3D?line=29'>30</a>\u001b[0m \u001b[39melse\u001b[39;00m:\n\u001b[0;32m     <a href='vscode-notebook-cell:/c%3A/Users/mkuzo/Desktop/%D0%9F%D1%80%D0%BE%D0%B3%D1%80%D0%B0%D0%BC%D0%BC%D0%B8%D1%80%D0%BE%D0%B2%D0%B0%D0%BD%D0%B8%D0%B5_3%20%D1%81%D0%B5%D0%BC/Domashki_sem3/sem4hw4.ipynb#X15sZmlsZQ%3D%3D?line=30'>31</a>\u001b[0m     \u001b[39mraise\u001b[39;00m \u001b[39mValueError\u001b[39;00m\n",
      "\u001b[1;31mValueError\u001b[0m: "
     ]
    }
   ],
   "source": [
    "morph = pymorphy2.MorphAnalyzer()\n",
    "\n",
    "token1 = Token(\"столики\")\n",
    "token1.category = 'Cyr'\n",
    "token1.lemma = morph\n",
    "# token1.setname(morph)\n",
    "print(token1.lemma)  \n",
    "\n",
    "token2 = Token(\"столища\")\n",
    "token2.category = 'Cyr'\n",
    "token2.lemma = morph\n",
    "print(token2.lemma)\n",
    "\n",
    "token3 = Token('столы')\n",
    "token3.category = 'Cyr'\n",
    "token3.lemma = morph\n",
    "print(token3.lemma) \n",
    "\n",
    "token4 = Token('dajfhbfhifwodjvbjkqjdk')\n",
    "token4.category = 'Lat'\n",
    "token4.lemma = morph\n",
    "print(token4.lemma)"
   ]
  },
  {
   "cell_type": "markdown",
   "metadata": {},
   "source": [
    "Доделываю задачи 3-5."
   ]
  },
  {
   "cell_type": "markdown",
   "metadata": {},
   "source": [
    "#### Задача 3. \n",
    "\n",
    "Перепишем задачу 2 с полноценным дескриптором Lemmatize."
   ]
  },
  {
   "cell_type": "code",
   "execution_count": 7,
   "metadata": {},
   "outputs": [],
   "source": [
    "import pymorphy2\n",
    "\n",
    "class Token:\n",
    "    def __init__(self, word):\n",
    "        self.word = word\n",
    "        self._lemma = None\n",
    "    \n",
    "    def setname(self, morph):\n",
    "        morph = pymorphy2.MorphAnalyzer()\n",
    "        parsed = morph.parse(self.word)\n",
    "        if parsed:\n",
    "            self._lemma = morph.parse(self.word)[0].normal_form\n",
    "    \n",
    "    @property\n",
    "    def lemma(self):\n",
    "        if self._lemma:\n",
    "            return self._lemma\n",
    "        else:\n",
    "            return 'razbora net...'"
   ]
  },
  {
   "cell_type": "code",
   "execution_count": 8,
   "metadata": {},
   "outputs": [
    {
     "name": "stdout",
     "output_type": "stream",
     "text": [
      "быть\n",
      "слон\n",
      "принтер\n"
     ]
    }
   ],
   "source": [
    "token1 = Token(\"будете\")\n",
    "#token1.category = 'Cyr'\n",
    "token1.setname(pymorphy2.MorphAnalyzer())\n",
    "print(token1.lemma)  \n",
    "\n",
    "token2 = Token(\"слонов\")\n",
    "#token2.category = 'Cyr'\n",
    "token2.setname(pymorphy2.MorphAnalyzer())\n",
    "print(token2.lemma)  \n",
    "\n",
    "token3 = Token(\"принтерами\")\n",
    "#token3.category = 'Cyr'\n",
    "token3.setname(pymorphy2.MorphAnalyzer())\n",
    "print(token3.lemma)  "
   ]
  },
  {
   "cell_type": "markdown",
   "metadata": {},
   "source": [
    "#### Задача 4. \n",
    "\n",
    "Напишите класс \"пациент\", у которого есть устанавливаемые атрибуты \"диагноз\" и \"температура\". Атрибут \"температура\" должен устанавливаться таким образом, чтобы пользователь не мог установить нереалистичное значение типа 15, даже используя синтаксис Patient.temperature = 15. "
   ]
  },
  {
   "cell_type": "code",
   "execution_count": 9,
   "metadata": {},
   "outputs": [],
   "source": [
    "class Patient:\n",
    "    def __init__(self):\n",
    "        self.__diagnosis = None\n",
    "        self.__temperature = None\n",
    "    \n",
    "    @property\n",
    "    def diagnosis(self):\n",
    "        return self.__diagnosis\n",
    "    \n",
    "    @diagnosis.setter\n",
    "    def diagnosis(self, value):\n",
    "        self.__diagnosis = value\n",
    "    \n",
    "    @property\n",
    "    def temperature(self):\n",
    "        return self.__temperature\n",
    "    \n",
    "    @temperature.setter\n",
    "    def temperature(self, value):\n",
    "        if value < 35.0 or value > 43.0:\n",
    "            raise ValueError('пациент, видимо, помёр.... какая жалость')\n",
    "        self.__temperature = value"
   ]
  },
  {
   "cell_type": "code",
   "execution_count": 10,
   "metadata": {},
   "outputs": [
    {
     "name": "stdout",
     "output_type": "stream",
     "text": [
      "орви орз ковид грипп\n",
      "38.5\n"
     ]
    }
   ],
   "source": [
    "patient = Patient()\n",
    "patient.diagnosis = \"орви орз ковид грипп\"\n",
    "patient.temperature = 38.5\n",
    "\n",
    "print(patient.diagnosis)  \n",
    "print(patient.temperature)   "
   ]
  },
  {
   "cell_type": "code",
   "execution_count": 11,
   "metadata": {},
   "outputs": [
    {
     "ename": "ValueError",
     "evalue": "пациент, видимо, помёр.... какая жалость",
     "output_type": "error",
     "traceback": [
      "\u001b[1;31m---------------------------------------------------------------------------\u001b[0m",
      "\u001b[1;31mValueError\u001b[0m                                Traceback (most recent call last)",
      "\u001b[1;32mc:\\Users\\mkuzo\\Desktop\\Программирование_3 сем\\Domashki_sem3\\sem4hw4.ipynb Ячейка 17\u001b[0m line \u001b[0;36m2\n\u001b[0;32m      <a href='vscode-notebook-cell:/c%3A/Users/mkuzo/Desktop/%D0%9F%D1%80%D0%BE%D0%B3%D1%80%D0%B0%D0%BC%D0%BC%D0%B8%D1%80%D0%BE%D0%B2%D0%B0%D0%BD%D0%B8%D0%B5_3%20%D1%81%D0%B5%D0%BC/Domashki_sem3/sem4hw4.ipynb#X43sZmlsZQ%3D%3D?line=0'>1</a>\u001b[0m patient\u001b[39m.\u001b[39mdiagnosis \u001b[39m=\u001b[39m \u001b[39m\"\u001b[39m\u001b[39mпутинизм головного мозга\u001b[39m\u001b[39m\"\u001b[39m\n\u001b[1;32m----> <a href='vscode-notebook-cell:/c%3A/Users/mkuzo/Desktop/%D0%9F%D1%80%D0%BE%D0%B3%D1%80%D0%B0%D0%BC%D0%BC%D0%B8%D1%80%D0%BE%D0%B2%D0%B0%D0%BD%D0%B8%D0%B5_3%20%D1%81%D0%B5%D0%BC/Domashki_sem3/sem4hw4.ipynb#X43sZmlsZQ%3D%3D?line=1'>2</a>\u001b[0m patient\u001b[39m.\u001b[39;49mtemperature \u001b[39m=\u001b[39m \u001b[39m15\u001b[39m  \n",
      "\u001b[1;32mc:\\Users\\mkuzo\\Desktop\\Программирование_3 сем\\Domashki_sem3\\sem4hw4.ipynb Ячейка 17\u001b[0m line \u001b[0;36m2\n\u001b[0;32m     <a href='vscode-notebook-cell:/c%3A/Users/mkuzo/Desktop/%D0%9F%D1%80%D0%BE%D0%B3%D1%80%D0%B0%D0%BC%D0%BC%D0%B8%D1%80%D0%BE%D0%B2%D0%B0%D0%BD%D0%B8%D0%B5_3%20%D1%81%D0%B5%D0%BC/Domashki_sem3/sem4hw4.ipynb#X43sZmlsZQ%3D%3D?line=17'>18</a>\u001b[0m \u001b[39m@temperature\u001b[39m\u001b[39m.\u001b[39msetter\n\u001b[0;32m     <a href='vscode-notebook-cell:/c%3A/Users/mkuzo/Desktop/%D0%9F%D1%80%D0%BE%D0%B3%D1%80%D0%B0%D0%BC%D0%BC%D0%B8%D1%80%D0%BE%D0%B2%D0%B0%D0%BD%D0%B8%D0%B5_3%20%D1%81%D0%B5%D0%BC/Domashki_sem3/sem4hw4.ipynb#X43sZmlsZQ%3D%3D?line=18'>19</a>\u001b[0m \u001b[39mdef\u001b[39;00m \u001b[39mtemperature\u001b[39m(\u001b[39mself\u001b[39m, value):\n\u001b[0;32m     <a href='vscode-notebook-cell:/c%3A/Users/mkuzo/Desktop/%D0%9F%D1%80%D0%BE%D0%B3%D1%80%D0%B0%D0%BC%D0%BC%D0%B8%D1%80%D0%BE%D0%B2%D0%B0%D0%BD%D0%B8%D0%B5_3%20%D1%81%D0%B5%D0%BC/Domashki_sem3/sem4hw4.ipynb#X43sZmlsZQ%3D%3D?line=19'>20</a>\u001b[0m     \u001b[39mif\u001b[39;00m value \u001b[39m<\u001b[39m \u001b[39m35.0\u001b[39m \u001b[39mor\u001b[39;00m value \u001b[39m>\u001b[39m \u001b[39m43.0\u001b[39m:\n\u001b[1;32m---> <a href='vscode-notebook-cell:/c%3A/Users/mkuzo/Desktop/%D0%9F%D1%80%D0%BE%D0%B3%D1%80%D0%B0%D0%BC%D0%BC%D0%B8%D1%80%D0%BE%D0%B2%D0%B0%D0%BD%D0%B8%D0%B5_3%20%D1%81%D0%B5%D0%BC/Domashki_sem3/sem4hw4.ipynb#X43sZmlsZQ%3D%3D?line=20'>21</a>\u001b[0m         \u001b[39mraise\u001b[39;00m \u001b[39mValueError\u001b[39;00m(\u001b[39m'\u001b[39m\u001b[39mпациент, видимо, помёр.... какая жалость\u001b[39m\u001b[39m'\u001b[39m)\n\u001b[0;32m     <a href='vscode-notebook-cell:/c%3A/Users/mkuzo/Desktop/%D0%9F%D1%80%D0%BE%D0%B3%D1%80%D0%B0%D0%BC%D0%BC%D0%B8%D1%80%D0%BE%D0%B2%D0%B0%D0%BD%D0%B8%D0%B5_3%20%D1%81%D0%B5%D0%BC/Domashki_sem3/sem4hw4.ipynb#X43sZmlsZQ%3D%3D?line=21'>22</a>\u001b[0m     \u001b[39mself\u001b[39m\u001b[39m.\u001b[39m__temperature \u001b[39m=\u001b[39m value\n",
      "\u001b[1;31mValueError\u001b[0m: пациент, видимо, помёр.... какая жалость"
     ]
    }
   ],
   "source": [
    "patient.diagnosis = \"путинизм головного мозга\"\n",
    "patient.temperature = 15  "
   ]
  },
  {
   "cell_type": "markdown",
   "metadata": {},
   "source": [
    "#### Задача 5. \n",
    "\n",
    "Вернемся к нашему классу Token (первому) и добавим ему метод для подсчета количества созданных токенов. Реализуйте два варианта: через статические методы и методы класса. "
   ]
  },
  {
   "cell_type": "markdown",
   "metadata": {},
   "source": [
    "вариант 1"
   ]
  },
  {
   "cell_type": "code",
   "execution_count": 3,
   "metadata": {},
   "outputs": [],
   "source": [
    "class Token:\n",
    "    count = 0\n",
    "\n",
    "    def __init__(self, text):\n",
    "        self.text = text\n",
    "        self.__category = None \n",
    "        self.__lemma = None\n",
    "        self.__pos = None\n",
    "        Token.count += 1\n",
    "\n",
    "    def getcategory(self):\n",
    "        print('Get category')\n",
    "        return self.__category\n",
    "    \n",
    "    def setcategory(self, category):\n",
    "        if category in {'Cyr', \"Lat\", 'Punct', 'Other'}:\n",
    "            self.__category = category\n",
    "        else:\n",
    "            raise ValueError\n",
    "        \n",
    "    category = property(getcategory, setcategory)\n",
    "\n",
    "    def set_lemma(self, lemma):\n",
    "        self.lemma = lemma\n",
    "    \n",
    "    def set_pos(self, pos):\n",
    "        self.pos = pos\n",
    "\n",
    "    @staticmethod\n",
    "    def get_token_count():\n",
    "        return Token.count"
   ]
  },
  {
   "cell_type": "code",
   "execution_count": 4,
   "metadata": {},
   "outputs": [
    {
     "name": "stdout",
     "output_type": "stream",
     "text": [
      "будь будь VERB\n",
      "банан банан NOUN\n",
      "я я PRONOUN\n",
      "3\n"
     ]
    }
   ],
   "source": [
    "token1 = Token(\"будь\")\n",
    "token2 = Token(\"банан\")\n",
    "token3 = Token(\"я\")\n",
    "\n",
    "token1.set_lemma(\"будь\")\n",
    "token1.set_pos(\"VERB\")\n",
    "\n",
    "token2.set_lemma(\"банан\")\n",
    "token2.set_pos(\"NOUN\")\n",
    "\n",
    "token3.set_lemma(\"я\")\n",
    "token3.set_pos(\"PRONOUN\")\n",
    "\n",
    "print(token1.text, token1.lemma, token1.pos)  \n",
    "print(token2.text, token2.lemma, token2.pos)  \n",
    "print(token3.text, token3.lemma, token3.pos)\n",
    "\n",
    "\n",
    "print(Token.get_token_count())  "
   ]
  },
  {
   "cell_type": "markdown",
   "metadata": {},
   "source": [
    "вариант 2"
   ]
  },
  {
   "cell_type": "code",
   "execution_count": 5,
   "metadata": {},
   "outputs": [],
   "source": [
    "class Token:\n",
    "    count = 0\n",
    "\n",
    "    def __init__(self, text):\n",
    "        self.text = text\n",
    "        self.__category = None \n",
    "        self.__lemma = None\n",
    "        self.__pos = None\n",
    "        Token.count += 1\n",
    "\n",
    "    def getcategory(self):\n",
    "        print('Get category')\n",
    "        return self.__category\n",
    "    \n",
    "    def setcategory(self, category):\n",
    "        if category in {'Cyr', \"Lat\", 'Punct', 'Other'}:\n",
    "            self.__category = category\n",
    "        else:\n",
    "            raise ValueError\n",
    "        \n",
    "    category = property(getcategory, setcategory)\n",
    "\n",
    "    def set_lemma(self, lemma):\n",
    "        self.lemma = lemma\n",
    "    \n",
    "    def set_pos(self, pos):\n",
    "        self.pos = pos\n",
    "\n",
    "    @classmethod\n",
    "    def get_token_count(cls):\n",
    "        return cls.count"
   ]
  },
  {
   "cell_type": "code",
   "execution_count": 6,
   "metadata": {},
   "outputs": [
    {
     "name": "stdout",
     "output_type": "stream",
     "text": [
      "будь будь VERB\n",
      "банан банан NOUN\n",
      "я я PRONOUN\n",
      "3\n"
     ]
    }
   ],
   "source": [
    "token1 = Token(\"будь\")\n",
    "token2 = Token(\"банан\")\n",
    "token3 = Token(\"я\")\n",
    "\n",
    "token1.set_lemma(\"будь\")\n",
    "token1.set_pos(\"VERB\")\n",
    "\n",
    "token2.set_lemma(\"банан\")\n",
    "token2.set_pos(\"NOUN\")\n",
    "\n",
    "token3.set_lemma(\"я\")\n",
    "token3.set_pos(\"PRONOUN\")\n",
    "\n",
    "print(token1.text, token1.lemma, token1.pos)  \n",
    "print(token2.text, token2.lemma, token2.pos)  \n",
    "print(token3.text, token3.lemma, token3.pos)\n",
    "\n",
    "\n",
    "print(Token.get_token_count())  "
   ]
  },
  {
   "cell_type": "markdown",
   "metadata": {},
   "source": [
    "д/3 4"
   ]
  },
  {
   "cell_type": "markdown",
   "metadata": {},
   "source": [
    "Напишите программу - базу данных для ветеринарной клиники (мы что-то подобное уже делали, если есть старый код - можно его доработать). В базе данных (можете для хранения смело использовать pickle) хранятся записи о питомцах, их хозяевах и даты записи на прием, а также комментарии ветеринара, если прием уже состоялся. Таким образом, нам понадобятся:\n",
    "\n",
    "\n",
    "класс \"клиент\", в котором будет храниться имя и контакты хозяина, а также его питомцы.\n",
    "\n",
    "\n",
    "класс \"питомец\", в котором будут храниться имя и возраст питомца, даты записи на прием (можно реализовать как меняющийся атрибут \"текущий прием\", если питомца хотят привести, и атрибут-список или словарь \"приемы\", куда будут добавляться прошедшие приемы).\n",
    "\n",
    "\n",
    "общий класс \"база\", где будут храниться клиенты. По базе можно осуществлять поиск клиента по имени или по номеру телефона.\n",
    "\n",
    "\n",
    "дескрипторы / property, чтобы нельзя было вместо имени записать чепуху, указать питомцу возраст недопустимого значения и можно еще телефон проверять.\n",
    "\n",
    "\n",
    "в основном коде программы должна быть возможность посмотреть записи о прошедших приемах, наличие записи на текущий прием; возможность отыскать клиента и установить для одного из его питомцев (видимо, понадобится уметь выводить список питомцев) дату нового приема, а также отметить, что прием уже состоялся, и внести комментарий ветеринара.\n",
    "\n",
    "\n",
    "Ну и, конечно, базу данных можно сохранять. Можно это делать при выборе \"выйти из программы\".\n",
    "\n",
    "\n",
    "Эту задачу можно написать в тетрадке, если хочется, но, возможно, будет удобнее в py. "
   ]
  },
  {
   "cell_type": "code",
   "execution_count": 10,
   "metadata": {},
   "outputs": [
    {
     "name": "stdout",
     "output_type": "stream",
     "text": [
      " --- ДОБРО ПОЖАЛОВАТЬ В ВЕТКЛИНИКУ!!! --- \n",
      "1. НОВЫЙ КЛИЕНТ\n",
      "2. НАЙТИ КЛИЕНТА\n",
      "3. ДОБАВИТЬ ДАТУ ПРИЁМА\n",
      "4. ПРИЁМЫ\n",
      "5. ВЫХОД ИЗ БД\n",
      "КЛИЕНТ ТЕПЕРЬ В НАШИХ ПУШИСТЫХ ЛАПКАХ\n",
      " --- ДОБРО ПОЖАЛОВАТЬ В ВЕТКЛИНИКУ!!! --- \n",
      "1. НОВЫЙ КЛИЕНТ\n",
      "2. НАЙТИ КЛИЕНТА\n",
      "3. ДОБАВИТЬ ДАТУ ПРИЁМА\n",
      "4. ПРИЁМЫ\n",
      "5. ВЫХОД ИЗ БД\n",
      "НАШ КЛИЕНТ! ИМЯ: МАРИЯ\n",
      "НОМЕР ТЕЛ: 123455\n",
      "ЗВЕРУШКИ: \n",
      " --- ДОБРО ПОЖАЛОВАТЬ В ВЕТКЛИНИКУ!!! --- \n",
      "1. НОВЫЙ КЛИЕНТ\n",
      "2. НАЙТИ КЛИЕНТА\n",
      "3. ДОБАВИТЬ ДАТУ ПРИЁМА\n",
      "4. ПРИЁМЫ\n",
      "5. ВЫХОД ИЗ БД\n",
      "ПРИЁМ НАЗНАЧЕН! \n",
      " --- ДОБРО ПОЖАЛОВАТЬ В ВЕТКЛИНИКУ!!! --- \n",
      "1. НОВЫЙ КЛИЕНТ\n",
      "2. НАЙТИ КЛИЕНТА\n",
      "3. ДОБАВИТЬ ДАТУ ПРИЁМА\n",
      "4. ПРИЁМЫ\n",
      "5. ВЫХОД ИЗ БД\n",
      "Pet: ПОПУГАЙЧИК ДАСТИК\tAppointment Date: 11.11\tComment: None\n",
      " --- ДОБРО ПОЖАЛОВАТЬ В ВЕТКЛИНИКУ!!! --- \n",
      "1. НОВЫЙ КЛИЕНТ\n",
      "2. НАЙТИ КЛИЕНТА\n",
      "3. ДОБАВИТЬ ДАТУ ПРИЁМА\n",
      "4. ПРИЁМЫ\n",
      "5. ВЫХОД ИЗ БД\n",
      "БД сохранена\n",
      "ВЫХОДИМ... ВЕТКЛИНИКА ЗАКРЫЛАСЬ...\n"
     ]
    }
   ],
   "source": [
    "import pickle\n",
    "\n",
    "class Client:\n",
    "    def __init__(self, name, phone):\n",
    "        self.name = name\n",
    "        self.phone = phone\n",
    "        self.pets = []\n",
    "\n",
    "class Pet:\n",
    "    def __init__(self, name, age):\n",
    "        self.name = name\n",
    "        self.age = age\n",
    "        self.appointments = [] #сохраняем приёмы, посещения\n",
    "\n",
    "class Appointment:\n",
    "    def __init__(self, date):\n",
    "        self.date = date\n",
    "        self.comment = None\n",
    "\n",
    "class ClinicDatabase:\n",
    "    def __init__(self):\n",
    "        self.clients = []\n",
    "\n",
    "    def add_client(self, client):\n",
    "        self.clients.append(client)\n",
    "\n",
    "    def find_client_by_name(self, name):\n",
    "        for client in self.clients:\n",
    "            if client.name == name:\n",
    "                return client\n",
    "        return None\n",
    "\n",
    "    def find_client_by_phone(self, phone):\n",
    "        for client in self.clients:\n",
    "            if client.phone == phone:\n",
    "                return client\n",
    "        return None\n",
    "\n",
    "    def save_database(self, file_name):\n",
    "        with open(file_name, 'wb') as file:\n",
    "            pickle.dump(self, file)\n",
    "        print(\"БД сохранена\")\n",
    "\n",
    "    @staticmethod\n",
    "    def load_database(file_name):\n",
    "        try:\n",
    "            with open(file_name, 'rb') as file:\n",
    "                return pickle.load(file)\n",
    "        except FileNotFoundError:\n",
    "            print(\"Где бд?...\")\n",
    "            return None\n",
    "\n",
    "    def print_appointments(self):\n",
    "        for client in self.clients:\n",
    "            for pet in client.pets:\n",
    "                for appointment in pet.appointments:\n",
    "                    print(f\"Pet: {pet.name}\\tAppointment Date: {appointment.date}\\tComment: {appointment.comment}\")\n",
    "\n",
    "def main():\n",
    "    database = ClinicDatabase()\n",
    "\n",
    "    choice = None\n",
    "    while choice != '5':\n",
    "        print(\" --- ДОБРО ПОЖАЛОВАТЬ В ВЕТКЛИНИКУ!!! --- \")\n",
    "        print(\"1. НОВЫЙ КЛИЕНТ\")\n",
    "        print(\"2. НАЙТИ КЛИЕНТА\")\n",
    "        print(\"3. ДОБАВИТЬ ДАТУ ПРИЁМА\")\n",
    "        print(\"4. ПРИЁМЫ\")\n",
    "        print(\"5. ВЫХОД ИЗ БД\")\n",
    "\n",
    "        choice = int(input(\"ЧТО НУЖНО? \"))\n",
    "\n",
    "        if choice == 1:\n",
    "            name = input(\"ВВЕДИТЕ ИМЯ: \")\n",
    "            phone = input(\"ВВЕДИТЕ НОМЕР ТЕЛ: \")\n",
    "            client = Client(name, phone)\n",
    "            database.add_client(client)\n",
    "            print(\"КЛИЕНТ ТЕПЕРЬ В НАШИХ ПУШИСТЫХ ЛАПКАХ\")\n",
    "        \n",
    "        elif choice == 2:\n",
    "            search_choice = int(input(\"КАК БУДЕМ ИСКАТЬ КЛИЕНТА? 1 - ПО ИМЕНИ; 2 - ПО НОМЕРУ ТЕЛ \"))\n",
    "            if search_choice == 1:\n",
    "                name = input(\"ИМЯ КЛИЕНТА (...ищем...): \")\n",
    "                client = database.find_client_by_name(name)\n",
    "                if client:\n",
    "                    print(f\"НАШ КЛИЕНТ! ИМЯ: {client.name}\\nНОМЕР ТЕЛ: {client.phone}\")\n",
    "                    print(\"ЗВЕРУШКИ: \")\n",
    "                    for pet in client.pets:\n",
    "                        print(f\"КЛИЧКА: {pet.name}\\nГОДИКОВ: {pet.age}\")\n",
    "                else:\n",
    "                    print(\"НЕ НАШ КЛИЕНТИК... ПОВОД СДЕЛАТЬ ЕГО НАШИМ!\")\n",
    "\n",
    "            elif search_choice == 2:\n",
    "                phone = input(\"ТЕЛЕФОН КЛИЕНТА (...ищем...): \")\n",
    "                client = database.find_client_by_phone(phone)\n",
    "                if client:\n",
    "                    print(f\"НАШ КЛИЕНТ! ИМЯ: {client.name}\\nНОМЕР ТЕЛ: {client.phone}\")\n",
    "                    print(\"ЗВЕРУШКИ: \")\n",
    "                    for pet in client.pets:\n",
    "                        print(f\"КЛИЧКА: {pet.name}\\nГОДИКОВ: {pet.age}\")\n",
    "                else:\n",
    "                    print(\"НЕ НАШ КЛИЕНТИК... ПОВОД СДЕЛАТЬ ЕГО НАШИМ!\")\n",
    "        \n",
    "        elif choice == 3:\n",
    "            name = input(\"ИМЯ КЛИЕНТА: \")\n",
    "            client = database.find_client_by_name(name)\n",
    "            if client:\n",
    "                pet_name = input(\"ИМЯ ЗВЕРУШКИ: \")\n",
    "                \n",
    "                # тут надо проверить был ли уже питомец в клинике или нет\n",
    "                pet_exists = False\n",
    "                for pet in client.pets:\n",
    "                    if pet.name == pet_name:\n",
    "                        pet_exists = True\n",
    "                        pet_age = input(\"ЗВЕРУШКИНЫ ГОДА: \")\n",
    "                        pet.age = pet_age\n",
    "                        break\n",
    "                \n",
    "                if not pet_exists:\n",
    "                    pet_age = input(\"ЗВЕРУШКИНЫ ГОДА: \")\n",
    "                    pet = Pet(pet_name, pet_age)\n",
    "                    client.pets.append(pet)\n",
    "                \n",
    "                appointment_date = input(\"ДАТА ПРИЁМА: \")\n",
    "                appointment = Appointment(appointment_date)\n",
    "                pet.appointments.append(appointment)\n",
    "                print(\"ПРИЁМ НАЗНАЧЕН! \")\n",
    "            else:\n",
    "                print(\"НЕ НАШ КЛИЕНТИК... ПОВОД СДЕЛАТЬ ЕГО НАШИМ!\")\n",
    "\n",
    "        elif choice == 4:\n",
    "            database.print_appointments()\n",
    "\n",
    "        elif choice == 5:\n",
    "            file_name = input(\"КАК НАЗОВЁМ БД? \")\n",
    "            database.save_database(file_name)\n",
    "            print(\"ВЫХОДИМ... ВЕТКЛИНИКА ЗАКРЫЛАСЬ...\")\n",
    "            break\n",
    "\n",
    "        else:\n",
    "            print(\"ЕРУНДА КАКАЯ-ТО, ПОПРОБУЙТЕ ЗАНОВО СДЕЛАТЬ ЧТО-НИБУДЬ.\")\n",
    "\n",
    "if __name__ == \"__main__\":\n",
    "    main()"
   ]
  }
 ],
 "metadata": {
  "kernelspec": {
   "display_name": "Python 3",
   "language": "python",
   "name": "python3"
  },
  "language_info": {
   "codemirror_mode": {
    "name": "ipython",
    "version": 3
   },
   "file_extension": ".py",
   "mimetype": "text/x-python",
   "name": "python",
   "nbconvert_exporter": "python",
   "pygments_lexer": "ipython3",
   "version": "3.10.11"
  }
 },
 "nbformat": 4,
 "nbformat_minor": 2
}
