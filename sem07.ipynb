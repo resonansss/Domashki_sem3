{
 "cells": [
  {
   "cell_type": "markdown",
   "id": "3912546a-7e05-459d-9677-ec831065eeb6",
   "metadata": {},
   "source": [
    "#### Задача 1. \n",
    "\n",
    "Напишите метакласс с логированием: при определении любого нового класса в файл (путь к которому хранится в статическом атрибуте метакласса) записывается имя этого класса, его суперклассы и атрибуты. "
   ]
  },
  {
   "cell_type": "code",
   "execution_count": 38,
   "id": "af0d1736-d64f-4d35-afd3-f0993f595d1a",
   "metadata": {},
   "outputs": [],
   "source": [
    "class LogMeta(type):\n",
    "    log_file = 'log.txt'\n",
    "\n",
    "    def __new__(cls, name, bases, attrs):\n",
    "\n",
    "        with open(cls.log_file, 'a') as file:\n",
    "\n",
    "            file.write(f'Имя класса: {name}\\n\\n')\n",
    "            file.write(f'Супер-пупер классы: {\", \".join([base.__name__ for base in bases])}\\n\\n')\n",
    "            file.write('Атрибуты: \\n')\n",
    "\n",
    "            for attr, value in attrs.items():\n",
    "                file.write(f'{attr}: {value}\\n')\n",
    "                \n",
    "            file.write('\\n')\n",
    "\n",
    "        return super().__new__(cls, name, bases, attrs)"
   ]
  },
  {
   "cell_type": "code",
   "execution_count": 39,
   "metadata": {},
   "outputs": [],
   "source": [
    "class VeryNiceClass (metaclass=LogMeta):\n",
    "    hi = 'Hello!!!'\n",
    "    num = 42\n",
    "\n",
    "    def __init__(self):\n",
    "        self.not_hi = 'Byeee!'\n",
    "\n",
    "    def method(self):\n",
    "        print('Hello, world!')\n",
    "        print(42, 42, 42)"
   ]
  },
  {
   "cell_type": "code",
   "execution_count": 42,
   "metadata": {},
   "outputs": [
    {
     "name": "stdout",
     "output_type": "stream",
     "text": [
      "Имя класса: VeryNiceClass\n",
      "\n",
      "Супер-пупер классы: \n",
      "\n",
      "Атрибуты: \n",
      "__module__: __main__\n",
      "__qualname__: VeryNiceClass\n",
      "hi: Hello!!!\n",
      "num: 42\n",
      "__init__: <function VeryNiceClass.__init__ at 0x0000022E23A4D6C0>\n",
      "method: <function VeryNiceClass.method at 0x0000022E23556480>\n",
      "\n",
      "\n"
     ]
    }
   ],
   "source": [
    "with open(LogMeta.log_file, 'r') as file:\n",
    "    print(file.read())"
   ]
  },
  {
   "cell_type": "markdown",
   "id": "941a875a-a499-40a7-a719-de7f5faf5335",
   "metadata": {},
   "source": [
    "#### Задача 2. \n",
    "\n",
    "Напишите метакласс, который любому новому классу будет добавлять метод sayHello(\\*args, \\*\\*kwargs). "
   ]
  },
  {
   "cell_type": "code",
   "execution_count": 53,
   "id": "abbb5388-fec9-404b-a968-5a0f3bebfbec",
   "metadata": {},
   "outputs": [],
   "source": [
    "class sayHelloMeta(type):\n",
    "\n",
    "    def __new__(cls, name, bases, attrs):\n",
    "\n",
    "        attrs['sayHello'] = cls.say_hello\n",
    "\n",
    "        return super().__new__(cls, name, bases, attrs)\n",
    "\n",
    "    @staticmethod\n",
    "    def say_hello(*args, **kwargs):\n",
    "\n",
    "        print('say Helloooooo!!!')"
   ]
  },
  {
   "cell_type": "code",
   "execution_count": 54,
   "metadata": {},
   "outputs": [],
   "source": [
    "class VeryNiceClass(metaclass=sayHelloMeta):\n",
    "    hi = 'Hello!!!'\n",
    "    num = 42\n",
    "\n",
    "    def __init__(self):\n",
    "        self.not_hi = 'Byeee!'\n",
    "\n",
    "    def method(self):\n",
    "        print('Hello, world!')\n",
    "        print(42, 42, 42)"
   ]
  },
  {
   "cell_type": "code",
   "execution_count": 55,
   "metadata": {},
   "outputs": [
    {
     "name": "stdout",
     "output_type": "stream",
     "text": [
      "say Helloooooo!!!\n"
     ]
    }
   ],
   "source": [
    "hehe = VeryNiceClass()\n",
    "hehe.sayHello()  "
   ]
  },
  {
   "cell_type": "markdown",
   "id": "fbef0a1a-e89c-44c6-8fb6-bf12eed79f4b",
   "metadata": {},
   "source": [
    "#### Задача 3. \n",
    "\n",
    "Напишите метакласс, который позволяет своим классам иметь только атрибуты name, surname, age и никаких других. "
   ]
  },
  {
   "cell_type": "code",
   "execution_count": 81,
   "id": "4b757c9d-f2d8-4931-8d88-d4d9df5dc2b5",
   "metadata": {},
   "outputs": [],
   "source": [
    "class NoAllowedAttrsMeta(type):\n",
    "\n",
    "    def __new__(cls, name, bases, attrs):\n",
    "\n",
    "        allowed_attrs = {'name', 'surname', 'age', '__module__', '__qualname__', '__init__'} #без этих штук не работало\n",
    "        \n",
    "        for attr in attrs:\n",
    "            if attr not in allowed_attrs:\n",
    "                raise AttributeError(f'Класс \"{name}\" нельзя добавить атрибут \"{attr}\", могут быть только атрибуты: name, surname, age')\n",
    "        \n",
    "        return super().__new__(cls, name, bases, attrs)\n"
   ]
  },
  {
   "cell_type": "code",
   "execution_count": 82,
   "metadata": {},
   "outputs": [],
   "source": [
    "class Person(metaclass=NoAllowedAttrsMeta):\n",
    "    name = 'Vasya'\n",
    "    surname = 'Lingvistov'\n",
    "    age = 22\n",
    "    \n",
    "    def __init__(self, name, surname, age):\n",
    "        self.name = name\n",
    "        self.surname = surname\n",
    "        self.age = age"
   ]
  },
  {
   "cell_type": "code",
   "execution_count": 83,
   "metadata": {},
   "outputs": [
    {
     "data": {
      "text/plain": [
       "'Vasya'"
      ]
     },
     "execution_count": 83,
     "metadata": {},
     "output_type": "execute_result"
    }
   ],
   "source": [
    "Person.name"
   ]
  },
  {
   "cell_type": "code",
   "execution_count": 86,
   "metadata": {},
   "outputs": [
    {
     "ename": "AttributeError",
     "evalue": "Класс \"Person_2\" нельзя добавить атрибут \"job\", могут быть только атрибуты: name, surname, age",
     "output_type": "error",
     "traceback": [
      "\u001b[1;31m---------------------------------------------------------------------------\u001b[0m",
      "\u001b[1;31mAttributeError\u001b[0m                            Traceback (most recent call last)",
      "\u001b[1;32mc:\\Users\\Maria\\Desktop\\Программирование_3 сем\\Domashki_sem3\\sem07.ipynb Ячейка 13\u001b[0m line \u001b[0;36m1\n\u001b[1;32m----> <a href='vscode-notebook-cell:/c%3A/Users/Maria/Desktop/%D0%9F%D1%80%D0%BE%D0%B3%D1%80%D0%B0%D0%BC%D0%BC%D0%B8%D1%80%D0%BE%D0%B2%D0%B0%D0%BD%D0%B8%D0%B5_3%20%D1%81%D0%B5%D0%BC/Domashki_sem3/sem07.ipynb#X25sZmlsZQ%3D%3D?line=0'>1</a>\u001b[0m \u001b[39mclass\u001b[39;49;00m \u001b[39mPerson_2\u001b[39;49;00m(metaclass\u001b[39m=\u001b[39;49mNoAllowedAttrsMeta):\n\u001b[0;32m      <a href='vscode-notebook-cell:/c%3A/Users/Maria/Desktop/%D0%9F%D1%80%D0%BE%D0%B3%D1%80%D0%B0%D0%BC%D0%BC%D0%B8%D1%80%D0%BE%D0%B2%D0%B0%D0%BD%D0%B8%D0%B5_3%20%D1%81%D0%B5%D0%BC/Domashki_sem3/sem07.ipynb#X25sZmlsZQ%3D%3D?line=1'>2</a>\u001b[0m     name \u001b[39m=\u001b[39;49m \u001b[39m'\u001b[39;49m\u001b[39mVasya\u001b[39;49m\u001b[39m'\u001b[39;49m\n\u001b[0;32m      <a href='vscode-notebook-cell:/c%3A/Users/Maria/Desktop/%D0%9F%D1%80%D0%BE%D0%B3%D1%80%D0%B0%D0%BC%D0%BC%D0%B8%D1%80%D0%BE%D0%B2%D0%B0%D0%BD%D0%B8%D0%B5_3%20%D1%81%D0%B5%D0%BC/Domashki_sem3/sem07.ipynb#X25sZmlsZQ%3D%3D?line=2'>3</a>\u001b[0m     surname \u001b[39m=\u001b[39;49m \u001b[39m'\u001b[39;49m\u001b[39mLingvistov\u001b[39;49m\u001b[39m'\u001b[39;49m\n",
      "\u001b[1;32mc:\\Users\\Maria\\Desktop\\Программирование_3 сем\\Domashki_sem3\\sem07.ipynb Ячейка 13\u001b[0m line \u001b[0;36m9\n\u001b[0;32m      <a href='vscode-notebook-cell:/c%3A/Users/Maria/Desktop/%D0%9F%D1%80%D0%BE%D0%B3%D1%80%D0%B0%D0%BC%D0%BC%D0%B8%D1%80%D0%BE%D0%B2%D0%B0%D0%BD%D0%B8%D0%B5_3%20%D1%81%D0%B5%D0%BC/Domashki_sem3/sem07.ipynb#X25sZmlsZQ%3D%3D?line=6'>7</a>\u001b[0m \u001b[39mfor\u001b[39;00m attr \u001b[39min\u001b[39;00m attrs:\n\u001b[0;32m      <a href='vscode-notebook-cell:/c%3A/Users/Maria/Desktop/%D0%9F%D1%80%D0%BE%D0%B3%D1%80%D0%B0%D0%BC%D0%BC%D0%B8%D1%80%D0%BE%D0%B2%D0%B0%D0%BD%D0%B8%D0%B5_3%20%D1%81%D0%B5%D0%BC/Domashki_sem3/sem07.ipynb#X25sZmlsZQ%3D%3D?line=7'>8</a>\u001b[0m     \u001b[39mif\u001b[39;00m attr \u001b[39mnot\u001b[39;00m \u001b[39min\u001b[39;00m allowed_attrs:\n\u001b[1;32m----> <a href='vscode-notebook-cell:/c%3A/Users/Maria/Desktop/%D0%9F%D1%80%D0%BE%D0%B3%D1%80%D0%B0%D0%BC%D0%BC%D0%B8%D1%80%D0%BE%D0%B2%D0%B0%D0%BD%D0%B8%D0%B5_3%20%D1%81%D0%B5%D0%BC/Domashki_sem3/sem07.ipynb#X25sZmlsZQ%3D%3D?line=8'>9</a>\u001b[0m         \u001b[39mraise\u001b[39;00m \u001b[39mAttributeError\u001b[39;00m(\u001b[39mf\u001b[39m\u001b[39m'\u001b[39m\u001b[39mКласс \u001b[39m\u001b[39m\"\u001b[39m\u001b[39m{\u001b[39;00mname\u001b[39m}\u001b[39;00m\u001b[39m\"\u001b[39m\u001b[39m нельзя добавить атрибут \u001b[39m\u001b[39m\"\u001b[39m\u001b[39m{\u001b[39;00mattr\u001b[39m}\u001b[39;00m\u001b[39m\"\u001b[39m\u001b[39m, могут быть только атрибуты: name, surname, age\u001b[39m\u001b[39m'\u001b[39m)\n\u001b[0;32m     <a href='vscode-notebook-cell:/c%3A/Users/Maria/Desktop/%D0%9F%D1%80%D0%BE%D0%B3%D1%80%D0%B0%D0%BC%D0%BC%D0%B8%D1%80%D0%BE%D0%B2%D0%B0%D0%BD%D0%B8%D0%B5_3%20%D1%81%D0%B5%D0%BC/Domashki_sem3/sem07.ipynb#X25sZmlsZQ%3D%3D?line=10'>11</a>\u001b[0m \u001b[39mreturn\u001b[39;00m \u001b[39msuper\u001b[39m()\u001b[39m.\u001b[39m\u001b[39m__new__\u001b[39m(\u001b[39mcls\u001b[39m, name, bases, attrs)\n",
      "\u001b[1;31mAttributeError\u001b[0m: Класс \"Person_2\" нельзя добавить атрибут \"job\", могут быть только атрибуты: name, surname, age"
     ]
    }
   ],
   "source": [
    "class Person_2(metaclass=NoAllowedAttrsMeta):\n",
    "    name = 'Vasya'\n",
    "    surname = 'Lingvistov'\n",
    "    age = 22\n",
    "    job = 'Linguist'\n",
    "    \n",
    "    def __init__(self, name, surname, age, job):\n",
    "        self.name = name\n",
    "        self.surname = surname\n",
    "        self.age = age \n",
    "        self.job = job"
   ]
  },
  {
   "cell_type": "markdown",
   "id": "50fd191e-dd8a-4bda-9229-529b126ceb3b",
   "metadata": {},
   "source": [
    "#### Задача 4 (2 балла). \n",
    "\n",
    "Приготовимся в большом проекте создать игру-стратегию (графику потом дизайнеры добавят). Наша игра будет называться Dawn of Man, и задачей игрока будет управлять поселением первобытных людей, которые в процессе набирают очки знаний и открывают новые технологии. Наши люди - это отдельные юниты, которые умеют взаимодействовать с элементами окружающей среды: у них будут какие-то инструменты для создания еды, оружия и прочего (например, какой-нибудь навес, под которым человек садится, набрав палок и камней, и ваяет себе палку-копалку). \n",
    "\n",
    "Наша задача - набросать черновик для игры: создать абстрактные классы для людей, объектов, с которыми они взаимодействуют, чтобы создавать вещи, и собственно вещей. Возможно, имеет смысл также предусмотреть черновик-класс для животных, на которых люди будут охотиться. \n",
    "\n",
    "Попробуйте также создать конкретный класс для кого-нибудь из них. "
   ]
  },
  {
   "cell_type": "code",
   "execution_count": 124,
   "id": "6e644cce-f06e-4d69-b451-935915630b3a",
   "metadata": {},
   "outputs": [],
   "source": [
    "from abc import ABC, abstractmethod\n",
    "\n",
    "class Unit(ABC):\n",
    "    def __init__(self, name):\n",
    "        self.name = name\n",
    "    \n",
    "    @abstractmethod\n",
    "    def interaction_with_environment(self, environment):\n",
    "        pass\n",
    "\n",
    "class Object(ABC):\n",
    "    @abstractmethod\n",
    "    def create_item(self, item):\n",
    "        pass\n",
    "\n",
    "class Item(ABC):\n",
    "    @abstractmethod\n",
    "    def use(self, unit):\n",
    "        pass\n",
    "\n",
    "class Human(Unit):\n",
    "    def interaction_with_environment(self, environment):\n",
    "        print(f'Человечек {self.name} взаимодействует с {environment}')\n",
    "\n",
    "class Tool(Item):\n",
    "    def use(self, unit):\n",
    "        print(f'Человечек {unit.name} использует инструменты')\n",
    "\n",
    "class Food(Item):\n",
    "    def use(self, unit):\n",
    "        print(f'Человечек {unit.name} вкусненько кушоет')\n",
    "\n",
    "class Animal(ABC):\n",
    "    @abstractmethod\n",
    "    def hunt(self, unit):\n",
    "        pass\n",
    "\n",
    "#конкретный класс камень\n",
    "class Stone(Object):\n",
    "    def create_item(self, item):\n",
    "        print(f'{item} создается с помощью камня')\n",
    "\n",
    "#конкретный класс мамонт\n",
    "class Mammoth(Animal):\n",
    "    def hunt(self, unit):\n",
    "        print(f'Человечек {unit.name} охотится на мамонта')"
   ]
  },
  {
   "cell_type": "code",
   "execution_count": 127,
   "metadata": {},
   "outputs": [
    {
     "name": "stdout",
     "output_type": "stream",
     "text": [
      "Человечек Васёк использует инструменты\n",
      "палка-копалка создается с помощью камня\n",
      "Человечек Васёк использует инструменты\n",
      "Человечек Васёк охотится на мамонта\n",
      "Человечек Васёк вкусненько кушоет\n"
     ]
    }
   ],
   "source": [
    "def Dawn_of_Man():\n",
    "    human = Human('Васёк')\n",
    "    tool = Tool()\n",
    "    tool.use(human)\n",
    "    stone = Stone()\n",
    "    stone.create_item('палка-копалка')\n",
    "    palka_kopalka = Tool()\n",
    "    palka_kopalka.use(human)\n",
    "    mammoth = Mammoth()\n",
    "    mammoth.hunt(human)\n",
    "    food = Food()\n",
    "    food.use(human)\n",
    "\n",
    "Dawn_of_Man()"
   ]
  }
 ],
 "metadata": {
  "kernelspec": {
   "display_name": "Python 3 (ipykernel)",
   "language": "python",
   "name": "python3"
  },
  "language_info": {
   "codemirror_mode": {
    "name": "ipython",
    "version": 3
   },
   "file_extension": ".py",
   "mimetype": "text/x-python",
   "name": "python",
   "nbconvert_exporter": "python",
   "pygments_lexer": "ipython3",
   "version": "3.11.6"
  }
 },
 "nbformat": 4,
 "nbformat_minor": 5
}
