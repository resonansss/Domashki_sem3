{
 "cells": [
  {
   "cell_type": "markdown",
   "metadata": {},
   "source": [
    "sem 3"
   ]
  },
  {
   "cell_type": "markdown",
   "metadata": {},
   "source": [
    "Единственная задача: обобщить написанный на семинаре код и сымитировать работу одного большого отдела ABBYY, в котором есть три маленьких подотдела с лингвистами, программистами и комплингом. То есть, что у нас должно быть реализовано:\n",
    "\n",
    "\n",
    "родительский класс \"работник\"\n",
    "\n",
    "\n",
    "базовые классы \"лингвист\", \"программист\" и \"компьютерный лингвист\"\n",
    "\n",
    "\n",
    "у всех методы work\n",
    "\n",
    "\n",
    "классы \"босс_лингвист\", \"босс_программист\" и \"босс_кл\", которые могут наследовать (с подмешиванием) от общего класса \"босс\"\n",
    "\n",
    "\n",
    "у боссов в атрибутах сидят их подчиненные\n",
    "\n",
    "\n",
    "босс подотдела получает квесты от менеджера главного отдела и принуждает сотрудников работать\n",
    "\n",
    "\n",
    "в главном отделе есть метод для выдачи квестов\n",
    "\n",
    "\n",
    "соответственно, используем как наследование, так и композицию с делегированием"
   ]
  },
  {
   "cell_type": "code",
   "execution_count": 3,
   "metadata": {},
   "outputs": [
    {
     "name": "stdout",
     "output_type": "stream",
     "text": [
      "Лингвист working...\n",
      "Лингвист working...\n",
      "Программист working...\n",
      "Программист working...\n",
      "Компьютерный лингвист working...\n",
      "Компьютерный лингвист working...\n"
     ]
    }
   ],
   "source": [
    "class Employee:\n",
    "\n",
    "    def __init__(self, name, surname):\n",
    "        self.name = name\n",
    "        self.surname = surname\n",
    "        self.__salary = 350  # _Employee__salary\n",
    "        self.bankaccount = 0\n",
    "\n",
    "    def work(self, *args):\n",
    "        raise NotImplementedError\n",
    "\n",
    "class Linguist(Employee):\n",
    "    def __init__(self, name, surname):\n",
    "        Employee.__init__(self, name, surname)\n",
    "        #self.__salary = self._Employee__salary * 1.5\n",
    "        #self.publications = []\n",
    "    \n",
    "    def work(self):\n",
    "        print('Лингвист working...')\n",
    "     \n",
    "    # def readlingpapers(self, lingpaper):\n",
    "    #     print('Reading...')\n",
    "    #     print(f'{self.name} {self.surname} has read {lingpaper}')\n",
    "\n",
    "class Programmer(Employee):\n",
    "    def __init__(self, name, surname):\n",
    "        Employee.__init__(self, name, surname)\n",
    "        #self.__salary *= self._Employee__salary * 2.5\n",
    "        #self.projects = []\n",
    "\n",
    "    def work(self):\n",
    "        print('Программист working...')\n",
    "        \n",
    "    # def learnpython(self):\n",
    "    #     print('Studying...')\n",
    "    #     print(f'{self.name} {self.surname} has learned a bit of Python')\n",
    "\n",
    "class ComputerLinguist(Linguist, Programmer):\n",
    "    \n",
    "    def __init__(self, name, surname):\n",
    "        Linguist.__init__(self, name, surname) \n",
    "        Programmer.__init__(self, name, surname)\n",
    "      #  self.__salary *= self._Employee__salary * 2.9\n",
    "\n",
    "    def work(self):\n",
    "        print('Компьютерный лингвист working...')\n",
    "\n",
    "class Boss:\n",
    "    def __init__(self, subordinates):\n",
    "        self.subordinates = subordinates\n",
    "\n",
    "    def assign_task(self, task):\n",
    "        for subordinate in self.subordinates:\n",
    "            subordinate.work()\n",
    "\n",
    "class LinguistBoss(Boss):\n",
    "    def __init__(self, subordinates):\n",
    "        super().__init__(subordinates)\n",
    "\n",
    "class ProgrammerBoss(Boss):\n",
    "    def __init__(self, subordinates):\n",
    "        super().__init__(subordinates)\n",
    "\n",
    "class ComputerLinguistBoss(Boss):\n",
    "    def __init__(self, subordinates):\n",
    "        super().__init__(subordinates)\n",
    "\n",
    "class MainDepartment:\n",
    "    def __init__(self, linguists, programmers, computer_linguists):\n",
    "        self.linguist_boss = LinguistBoss(linguists)\n",
    "        self.programmer_boss = ProgrammerBoss(programmers)\n",
    "        self.computer_linguist_boss = ComputerLinguistBoss(computer_linguists)\n",
    "\n",
    "    def assign_tasks(self):\n",
    "        task = 'Выполнить task'\n",
    "        self.linguist_boss.assign_task(task)\n",
    "        self.programmer_boss.assign_task(task)\n",
    "        self.computer_linguist_boss.assign_task(task)\n",
    "\n",
    "linguist1 = Linguist('Vasya', 'Petrov')\n",
    "linguist2 = Linguist('Petya', 'Vasilev')\n",
    "programmer1 = Programmer('Vanya', 'Andreev')\n",
    "programmer2 = Programmer('Andrey', 'Ivanov')\n",
    "computer_linguist1 = ComputerLinguist('Roma', 'Antonov')\n",
    "computer_linguist2 = ComputerLinguist('Anton', 'Romanov')\n",
    "\n",
    "main_department = MainDepartment([linguist1, linguist2], [programmer1, programmer2], [computer_linguist1, computer_linguist2])\n",
    "main_department.assign_tasks()"
   ]
  },
  {
   "cell_type": "markdown",
   "metadata": {},
   "source": [
    "ps. я очень сильно сократила код"
   ]
  },
  {
   "cell_type": "markdown",
   "metadata": {},
   "source": [
    "hw 3"
   ]
  },
  {
   "cell_type": "markdown",
   "metadata": {},
   "source": [
    "Питон умеет работать со звуком, распознаванием речи и Text-To-Speech: для этого есть (весьма простые) библиотеки playsound, gTTS и Speech Recognition. Попробуйте разобраться с этими библиотеками и с их помощью создать своего собственного мини-чатбота - помощника по изучению языка: на сервер загружать его не нужно, достаточно, чтобы он работал из консоли. Чатбот должен быть написан в классах, разумеется; он должен уметь по просьбе человека переводить и озвучивать что-то на английский (можно другой или предоставлять выбор), зачитывать по просьбе человека текст на этом языке (отвечать на вопрос \"как читается...?\"), а также человек с его помощью может тренироваться произносить что-то вслух на изучаемом языке: человек произносит, бот слушает и сверяет распознанное с исходным текстом.\n",
    "\n",
    "\n",
    "Если сделаете графический интерфейс, еще +10 баллов."
   ]
  },
  {
   "cell_type": "code",
   "execution_count": 4,
   "metadata": {},
   "outputs": [],
   "source": [
    "import sys\n",
    "from PyQt5.QtWidgets import QApplication, QWidget, QVBoxLayout, QLabel, QLineEdit, QPushButton\n",
    "from gtts import gTTS\n",
    "from playsound import playsound\n",
    "import speech_recognition as sr"
   ]
  },
  {
   "cell_type": "code",
   "execution_count": 5,
   "metadata": {},
   "outputs": [
    {
     "ename": "SystemExit",
     "evalue": "0",
     "output_type": "error",
     "traceback": [
      "An exception has occurred, use %tb to see the full traceback.\n",
      "\u001b[1;31mSystemExit\u001b[0m\u001b[1;31m:\u001b[0m 0\n"
     ]
    },
    {
     "name": "stderr",
     "output_type": "stream",
     "text": [
      "C:\\Users\\mkuzo\\AppData\\Local\\Packages\\PythonSoftwareFoundation.Python.3.10_qbz5n2kfra8p0\\LocalCache\\local-packages\\Python310\\site-packages\\IPython\\core\\interactiveshell.py:3513: UserWarning: To exit: use 'exit', 'quit', or Ctrl-D.\n",
      "  warn(\"To exit: use 'exit', 'quit', or Ctrl-D.\", stacklevel=1)\n"
     ]
    }
   ],
   "source": [
    "class ChatBot(QWidget):\n",
    "    def __init__(self):\n",
    "        super().__init__()\n",
    "        self.initUI()\n",
    "\n",
    "    def initUI(self):\n",
    "        self.setGeometry(100, 100, 500, 200)\n",
    "        self.setWindowTitle('Нано-чатбот для чтения и перевода')\n",
    "        \n",
    "        self.layout = QVBoxLayout()\n",
    "        \n",
    "        self.questionLabel = QLabel('Введите текст:')\n",
    "        self.layout.addWidget(self.questionLabel)\n",
    "\n",
    "        self.questionLineEdit = QLineEdit()\n",
    "        self.layout.addWidget(self.questionLineEdit)\n",
    "        \n",
    "        self.translateButton = QPushButton('Перевести на английский')\n",
    "        self.translateButton.clicked.connect(self.translateToEnglish)\n",
    "        self.layout.addWidget(self.translateButton)\n",
    "        \n",
    "        self.speechButton = QPushButton('Зачитать на английском')\n",
    "        self.speechButton.clicked.connect(self.speakEnglish)\n",
    "        self.layout.addWidget(self.speechButton)\n",
    "        \n",
    "        self.listenButton = QPushButton('Слушать и распознавать')\n",
    "        self.listenButton.clicked.connect(self.listenAndRecognize)\n",
    "        self.layout.addWidget(self.listenButton)\n",
    "        \n",
    "        self.resultLabel = QLabel()\n",
    "        self.layout.addWidget(self.resultLabel)\n",
    "\n",
    "        self.setLayout(self.layout)\n",
    "    \n",
    "    def translateToEnglish(self):\n",
    "        text = self.questionLineEdit.text()\n",
    "        tts = gTTS(text, lang='en')\n",
    "        tts.save('translation.mp3')\n",
    "        self.resultLabel.setText('Текст переведен и сохранен в translation.mp3.')\n",
    "\n",
    "    def speakEnglish(self):\n",
    "        text = self.questionLineEdit.text()\n",
    "        tts = gTTS(text, lang='en')\n",
    "        tts.save('speech.mp3')\n",
    "        self.resultLabel.setText('Текст зачитан и сохранен в speech.mp3.')\n",
    "    \n",
    "    def listenAndRecognize(self):\n",
    "        recognizer = sr.Recognizer()\n",
    "        with sr.Microphone() as source:\n",
    "            audio = recognizer.listen(source)\n",
    "\n",
    "        try:\n",
    "            recognized_text = recognizer.recognize_google(audio, language='en-US')\n",
    "            self.resultLabel.setText(f'Распознанный текст: {recognized_text}')\n",
    "        except sr.UnknownValueError:\n",
    "            self.resultLabel.setText('Не удалось распознать речь(((')\n",
    "        except sr.RequestError:\n",
    "            self.resultLabel.setText('Не удалось получить результат из службы распознавания речи(((')\n",
    "\n",
    "if __name__ == '__main__':\n",
    "    app = QApplication(sys.argv)\n",
    "    chatbot = ChatBot()\n",
    "    chatbot.show()\n",
    "    sys.exit(app.exec_())"
   ]
  }
 ],
 "metadata": {
  "kernelspec": {
   "display_name": "Python 3",
   "language": "python",
   "name": "python3"
  },
  "language_info": {
   "codemirror_mode": {
    "name": "ipython",
    "version": 3
   },
   "file_extension": ".py",
   "mimetype": "text/x-python",
   "name": "python",
   "nbconvert_exporter": "python",
   "pygments_lexer": "ipython3",
   "version": "3.10.11"
  }
 },
 "nbformat": 4,
 "nbformat_minor": 2
}
